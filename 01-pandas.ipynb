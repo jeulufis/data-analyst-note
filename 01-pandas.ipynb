{
 "cells": [
  {
   "cell_type": "code",
   "execution_count": 26,
   "metadata": {},
   "outputs": [],
   "source": [
    "import pandas as pd"
   ]
  },
  {
   "cell_type": "markdown",
   "metadata": {},
   "source": [
    "\n",
    "# 1 Limpiando data"
   ]
  },
  {
   "cell_type": "code",
   "execution_count": 27,
   "metadata": {},
   "outputs": [
    {
     "data": {
      "text/html": [
       "<div>\n",
       "<style scoped>\n",
       "    .dataframe tbody tr th:only-of-type {\n",
       "        vertical-align: middle;\n",
       "    }\n",
       "\n",
       "    .dataframe tbody tr th {\n",
       "        vertical-align: top;\n",
       "    }\n",
       "\n",
       "    .dataframe thead th {\n",
       "        text-align: right;\n",
       "    }\n",
       "</style>\n",
       "<table border=\"1\" class=\"dataframe\">\n",
       "  <thead>\n",
       "    <tr style=\"text-align: right;\">\n",
       "      <th></th>\n",
       "      <th>home</th>\n",
       "      <th>score</th>\n",
       "      <th>away</th>\n",
       "      <th>year</th>\n",
       "    </tr>\n",
       "  </thead>\n",
       "  <tbody>\n",
       "    <tr>\n",
       "      <th>0</th>\n",
       "      <td>Mexico</td>\n",
       "      <td>0–0</td>\n",
       "      <td>Soviet Union</td>\n",
       "      <td>1970</td>\n",
       "    </tr>\n",
       "    <tr>\n",
       "      <th>1</th>\n",
       "      <td>Belgium</td>\n",
       "      <td>3–0</td>\n",
       "      <td>El Salvador</td>\n",
       "      <td>1970</td>\n",
       "    </tr>\n",
       "    <tr>\n",
       "      <th>2</th>\n",
       "      <td>Soviet Union</td>\n",
       "      <td>4–1</td>\n",
       "      <td>Belgium</td>\n",
       "      <td>1970</td>\n",
       "    </tr>\n",
       "    <tr>\n",
       "      <th>3</th>\n",
       "      <td>Mexico</td>\n",
       "      <td>4–0</td>\n",
       "      <td>El Salvador</td>\n",
       "      <td>1970</td>\n",
       "    </tr>\n",
       "    <tr>\n",
       "      <th>4</th>\n",
       "      <td>Soviet Union</td>\n",
       "      <td>2–0</td>\n",
       "      <td>El Salvador</td>\n",
       "      <td>1970</td>\n",
       "    </tr>\n",
       "    <tr>\n",
       "      <th>...</th>\n",
       "      <td>...</td>\n",
       "      <td>...</td>\n",
       "      <td>...</td>\n",
       "      <td>...</td>\n",
       "    </tr>\n",
       "    <tr>\n",
       "      <th>503</th>\n",
       "      <td>Spain</td>\n",
       "      <td>0–1</td>\n",
       "      <td>Switzerland</td>\n",
       "      <td>2010</td>\n",
       "    </tr>\n",
       "    <tr>\n",
       "      <th>504</th>\n",
       "      <td>Chile</td>\n",
       "      <td>1–0</td>\n",
       "      <td>Switzerland</td>\n",
       "      <td>2010</td>\n",
       "    </tr>\n",
       "    <tr>\n",
       "      <th>505</th>\n",
       "      <td>Spain</td>\n",
       "      <td>2–0</td>\n",
       "      <td>Honduras</td>\n",
       "      <td>2010</td>\n",
       "    </tr>\n",
       "    <tr>\n",
       "      <th>506</th>\n",
       "      <td>Chile</td>\n",
       "      <td>1–2</td>\n",
       "      <td>Spain</td>\n",
       "      <td>2010</td>\n",
       "    </tr>\n",
       "    <tr>\n",
       "      <th>507</th>\n",
       "      <td>Switzerland</td>\n",
       "      <td>0–0</td>\n",
       "      <td>Honduras</td>\n",
       "      <td>2010</td>\n",
       "    </tr>\n",
       "  </tbody>\n",
       "</table>\n",
       "<p>508 rows × 4 columns</p>\n",
       "</div>"
      ],
      "text/plain": [
       "              home score           away  year\n",
       "0          Mexico    0–0   Soviet Union  1970\n",
       "1         Belgium    3–0    El Salvador  1970\n",
       "2    Soviet Union    4–1        Belgium  1970\n",
       "3          Mexico    4–0    El Salvador  1970\n",
       "4    Soviet Union    2–0    El Salvador  1970\n",
       "..             ...   ...            ...   ...\n",
       "503         Spain    0–1    Switzerland  2010\n",
       "504         Chile    1–0    Switzerland  2010\n",
       "505         Spain    2–0       Honduras  2010\n",
       "506         Chile    1–2          Spain  2010\n",
       "507   Switzerland    0–0       Honduras  2010\n",
       "\n",
       "[508 rows x 4 columns]"
      ]
     },
     "execution_count": 27,
     "metadata": {},
     "output_type": "execute_result"
    }
   ],
   "source": [
    "df_data_historica = pd.read_csv('data/fifa_worldcup_matches.csv')\n",
    "df_data_historica \n",
    "\n",
    "df_data_fixture = pd.read_csv('data/fifa_worldcup_fixture.csv')\n",
    "df_data_fixture \n",
    "\n",
    "df_data_missing = pd.read_csv('data/fifa_worldcup_missing_data.csv')\n",
    "df_data_missing \n"
   ]
  },
  {
   "cell_type": "markdown",
   "metadata": {},
   "source": [
    "## 1.1 Limpiar espacios en blanco fixture"
   ]
  },
  {
   "cell_type": "code",
   "execution_count": 34,
   "metadata": {},
   "outputs": [],
   "source": [
    "df_data_fixture['home'] = df_data_fixture['home'].str.strip()\n",
    "df_data_fixture['away'] = df_data_fixture['away'].str.strip()"
   ]
  }
 ],
 "metadata": {
  "kernelspec": {
   "display_name": "Python 3",
   "language": "python",
   "name": "python3"
  },
  "language_info": {
   "codemirror_mode": {
    "name": "ipython",
    "version": 3
   },
   "file_extension": ".py",
   "mimetype": "text/x-python",
   "name": "python",
   "nbconvert_exporter": "python",
   "pygments_lexer": "ipython3",
   "version": "3.10.13"
  }
 },
 "nbformat": 4,
 "nbformat_minor": 2
}
